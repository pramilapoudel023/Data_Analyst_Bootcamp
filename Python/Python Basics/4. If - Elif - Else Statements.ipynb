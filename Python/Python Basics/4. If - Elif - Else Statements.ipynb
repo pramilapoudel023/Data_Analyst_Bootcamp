{
 "cells": [
  {
   "cell_type": "markdown",
   "id": "57ea1c32",
   "metadata": {},
   "source": [
    "# If - Elif - Else Statements"
   ]
  },
  {
   "cell_type": "code",
   "execution_count": 1,
   "id": "15b5b3f4",
   "metadata": {},
   "outputs": [
    {
     "name": "stdout",
     "output_type": "stream",
     "text": [
      "It worked\n"
     ]
    }
   ],
   "source": [
    "if 25 > 10:\n",
    "    print('It worked')\n",
    "    "
   ]
  },
  {
   "cell_type": "code",
   "execution_count": 6,
   "id": "85451dc9",
   "metadata": {},
   "outputs": [
    {
     "name": "stdout",
     "output_type": "stream",
     "text": [
      "It did not worked....\n"
     ]
    }
   ],
   "source": [
    "if 25 < 10:\n",
    "    print('It worked')\n",
    "else:\n",
    "    print('It did not worked....')\n",
    "    "
   ]
  },
  {
   "cell_type": "code",
   "execution_count": 11,
   "id": "6cb8be04",
   "metadata": {},
   "outputs": [
    {
     "name": "stdout",
     "output_type": "stream",
     "text": [
      "If statement worked\n"
     ]
    }
   ],
   "source": [
    "if (25 < 10) or (1 < 3):\n",
    "    print('If statement worked')\n",
    "elif 25 < 20:\n",
    "    print('ElIf 1 statement worked')\n",
    "elif 25 < 21:\n",
    "    print('ElIf 2 statement worked')\n",
    "elif 25 < 40:\n",
    "    print('ElIf 3 statement worked')\n",
    "elif 25 < 50:\n",
    "    print('ElIf statement worked')\n",
    "else:\n",
    "    print('It did not worked....')"
   ]
  },
  {
   "cell_type": "code",
   "execution_count": 13,
   "id": "3ca87f4b",
   "metadata": {},
   "outputs": [
    {
     "name": "stdout",
     "output_type": "stream",
     "text": [
      "It didn't worked\n"
     ]
    }
   ],
   "source": [
    "print('It worked!') if 10 > 30 else print(\"It didn't worked\")"
   ]
  },
  {
   "cell_type": "markdown",
   "id": "ac5a148c",
   "metadata": {},
   "source": [
    "### Nested If Statement"
   ]
  },
  {
   "cell_type": "code",
   "execution_count": 14,
   "id": "c979ca4c",
   "metadata": {},
   "outputs": [
    {
     "name": "stdout",
     "output_type": "stream",
     "text": [
      "If statement worked\n",
      "Nested if statement worked!\n"
     ]
    }
   ],
   "source": [
    "if (25 < 10) or (1 < 3):\n",
    "    print('If statement worked')\n",
    "    if 10 > 5:\n",
    "        print('Nested if statement worked!')\n",
    "elif 25 < 20:\n",
    "    print('ElIf 1 statement worked')\n",
    "elif 25 < 21:\n",
    "    print('ElIf 2 statement worked')\n",
    "elif 25 < 40:\n",
    "    print('ElIf 3 statement worked')\n",
    "elif 25 < 50:\n",
    "    print('ElIf statement worked')\n",
    "else:\n",
    "    print('It did not worked....')"
   ]
  }
 ],
 "metadata": {
  "kernelspec": {
   "display_name": "Python 3 (ipykernel)",
   "language": "python",
   "name": "python3"
  },
  "language_info": {
   "codemirror_mode": {
    "name": "ipython",
    "version": 3
   },
   "file_extension": ".py",
   "mimetype": "text/x-python",
   "name": "python",
   "nbconvert_exporter": "python",
   "pygments_lexer": "ipython3",
   "version": "3.9.7"
  }
 },
 "nbformat": 4,
 "nbformat_minor": 5
}
