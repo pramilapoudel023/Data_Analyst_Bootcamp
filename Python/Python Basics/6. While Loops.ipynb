{
 "cells": [
  {
   "cell_type": "markdown",
   "id": "852813f3",
   "metadata": {},
   "source": [
    "# While Loops"
   ]
  },
  {
   "cell_type": "code",
   "execution_count": 2,
   "id": "7a69d39b",
   "metadata": {},
   "outputs": [],
   "source": [
    "# While loop is used in oython to iterate over a block of code as long as the test condition is true"
   ]
  },
  {
   "cell_type": "code",
   "execution_count": 3,
   "id": "6a05e44f",
   "metadata": {},
   "outputs": [],
   "source": [
    "# While loop only iterate over a sequence as long as a specific condition is met"
   ]
  },
  {
   "cell_type": "code",
   "execution_count": 10,
   "id": "dbb410ab",
   "metadata": {},
   "outputs": [
    {
     "name": "stdout",
     "output_type": "stream",
     "text": [
      "1\n",
      "2\n",
      "3\n",
      "4\n"
     ]
    }
   ],
   "source": [
    "number = 1\n",
    "while number < 5:\n",
    "    print(number)\n",
    "    number = number + 1"
   ]
  },
  {
   "cell_type": "code",
   "execution_count": 11,
   "id": "0f636901",
   "metadata": {},
   "outputs": [
    {
     "name": "stdout",
     "output_type": "stream",
     "text": [
      "0\n",
      "1\n",
      "2\n",
      "3\n"
     ]
    }
   ],
   "source": [
    "number = 0\n",
    "while number < 5:\n",
    "    print(number)\n",
    "    if number == 3:\n",
    "        break\n",
    "    number = number + 1"
   ]
  },
  {
   "cell_type": "code",
   "execution_count": 12,
   "id": "b0cb8fd0",
   "metadata": {},
   "outputs": [
    {
     "name": "stdout",
     "output_type": "stream",
     "text": [
      "1\n",
      "2\n",
      "4\n",
      "5\n",
      "Greater than 5\n"
     ]
    }
   ],
   "source": [
    "# else statement only going to trigger it the while\n",
    "number = 0\n",
    "while number < 5:\n",
    "    number = number + 1\n",
    "    if number == 3:\n",
    "        continue\n",
    "    print(number)\n",
    "else:\n",
    "    print('Greater than 5')"
   ]
  },
  {
   "cell_type": "code",
   "execution_count": null,
   "id": "3c397fd2",
   "metadata": {},
   "outputs": [],
   "source": []
  }
 ],
 "metadata": {
  "kernelspec": {
   "display_name": "Python 3 (ipykernel)",
   "language": "python",
   "name": "python3"
  },
  "language_info": {
   "codemirror_mode": {
    "name": "ipython",
    "version": 3
   },
   "file_extension": ".py",
   "mimetype": "text/x-python",
   "name": "python",
   "nbconvert_exporter": "python",
   "pygments_lexer": "ipython3",
   "version": "3.9.7"
  }
 },
 "nbformat": 4,
 "nbformat_minor": 5
}
