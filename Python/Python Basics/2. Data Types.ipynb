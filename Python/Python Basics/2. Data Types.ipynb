{
 "cells": [
  {
   "cell_type": "markdown",
   "id": "8eecd3ac",
   "metadata": {},
   "source": [
    "# Data Types"
   ]
  },
  {
   "cell_type": "markdown",
   "id": "d6e174cd",
   "metadata": {},
   "source": [
    "## Numeric "
   ]
  },
  {
   "cell_type": "code",
   "execution_count": 38,
   "id": "74a13460",
   "metadata": {},
   "outputs": [],
   "source": [
    "# There are 3 different types of numeric data types.\n",
    "# integers, float, and complex numbers"
   ]
  },
  {
   "cell_type": "markdown",
   "id": "97b919b8",
   "metadata": {},
   "source": [
    "### Integers"
   ]
  },
  {
   "cell_type": "code",
   "execution_count": 2,
   "id": "12cdc340",
   "metadata": {},
   "outputs": [
    {
     "data": {
      "text/plain": [
       "int"
      ]
     },
     "execution_count": 2,
     "metadata": {},
     "output_type": "execute_result"
    }
   ],
   "source": [
    "type(12)"
   ]
  },
  {
   "cell_type": "code",
   "execution_count": 4,
   "id": "eba07f01",
   "metadata": {},
   "outputs": [
    {
     "data": {
      "text/plain": [
       "int"
      ]
     },
     "execution_count": 4,
     "metadata": {},
     "output_type": "execute_result"
    }
   ],
   "source": [
    "type(-12 + 100)"
   ]
  },
  {
   "cell_type": "markdown",
   "id": "8649066b",
   "metadata": {},
   "source": [
    "### Float"
   ]
  },
  {
   "cell_type": "code",
   "execution_count": 5,
   "id": "397aebc9",
   "metadata": {},
   "outputs": [
    {
     "data": {
      "text/plain": [
       "float"
      ]
     },
     "execution_count": 5,
     "metadata": {},
     "output_type": "execute_result"
    }
   ],
   "source": [
    "type(-12 + 10.25)"
   ]
  },
  {
   "cell_type": "markdown",
   "id": "62e1b3fd",
   "metadata": {},
   "source": [
    "### Complex"
   ]
  },
  {
   "cell_type": "code",
   "execution_count": 8,
   "id": "de447b67",
   "metadata": {},
   "outputs": [],
   "source": [
    "# The complex number is used for imaginary numbers\n",
    "# j here is an imaginary number"
   ]
  },
  {
   "cell_type": "code",
   "execution_count": 9,
   "id": "2b0e9574",
   "metadata": {},
   "outputs": [
    {
     "data": {
      "text/plain": [
       "complex"
      ]
     },
     "execution_count": 9,
     "metadata": {},
     "output_type": "execute_result"
    }
   ],
   "source": [
    "type(-12 + 100j)"
   ]
  },
  {
   "cell_type": "markdown",
   "id": "87149eb9",
   "metadata": {},
   "source": [
    "## Boolean"
   ]
  },
  {
   "cell_type": "code",
   "execution_count": 14,
   "id": "2d07e299",
   "metadata": {},
   "outputs": [],
   "source": [
    "# Boolean data type has 2 values i.e TRUE or FALSE"
   ]
  },
  {
   "cell_type": "code",
   "execution_count": 15,
   "id": "66cb8a0a",
   "metadata": {},
   "outputs": [
    {
     "data": {
      "text/plain": [
       "bool"
      ]
     },
     "execution_count": 15,
     "metadata": {},
     "output_type": "execute_result"
    }
   ],
   "source": [
    "type( 1 > 5)"
   ]
  },
  {
   "cell_type": "code",
   "execution_count": 16,
   "id": "21eef85b",
   "metadata": {},
   "outputs": [
    {
     "data": {
      "text/plain": [
       "False"
      ]
     },
     "execution_count": 16,
     "metadata": {},
     "output_type": "execute_result"
    }
   ],
   "source": [
    "( 1 > 5)"
   ]
  },
  {
   "cell_type": "code",
   "execution_count": 17,
   "id": "a0a1c100",
   "metadata": {},
   "outputs": [
    {
     "data": {
      "text/plain": [
       "True"
      ]
     },
     "execution_count": 17,
     "metadata": {},
     "output_type": "execute_result"
    }
   ],
   "source": [
    "( 1 < 5)"
   ]
  },
  {
   "cell_type": "markdown",
   "id": "21bf1b0c",
   "metadata": {},
   "source": [
    "## Sequence Types Data Types\n",
    "\n",
    "#### Strings, Lists, & Tuples"
   ]
  },
  {
   "cell_type": "markdown",
   "id": "f5d7c1ce",
   "metadata": {},
   "source": [
    "### Strings"
   ]
  },
  {
   "cell_type": "code",
   "execution_count": 19,
   "id": "fd7b1122",
   "metadata": {},
   "outputs": [
    {
     "data": {
      "text/plain": [
       "'single quotes'"
      ]
     },
     "execution_count": 19,
     "metadata": {},
     "output_type": "execute_result"
    }
   ],
   "source": [
    "# Strings\n",
    "\n",
    "'single quotes'"
   ]
  },
  {
   "cell_type": "code",
   "execution_count": 20,
   "id": "67deeb33",
   "metadata": {},
   "outputs": [
    {
     "data": {
      "text/plain": [
       "'double quotes'"
      ]
     },
     "execution_count": 20,
     "metadata": {},
     "output_type": "execute_result"
    }
   ],
   "source": [
    "\"double quotes\""
   ]
  },
  {
   "cell_type": "code",
   "execution_count": 23,
   "id": "74aac662",
   "metadata": {},
   "outputs": [],
   "source": [
    "multiline = \"\"\"\n",
    "    This is \n",
    "    a \n",
    "    multi-line\n",
    "    string\n",
    "\"\"\""
   ]
  },
  {
   "cell_type": "code",
   "execution_count": 22,
   "id": "fc278519",
   "metadata": {},
   "outputs": [
    {
     "name": "stdout",
     "output_type": "stream",
     "text": [
      "\n",
      "    This is \n",
      "    a \n",
      "    multi-line\n",
      "    string\n",
      "\n"
     ]
    }
   ],
   "source": [
    "print(multiline)"
   ]
  },
  {
   "cell_type": "code",
   "execution_count": 24,
   "id": "9e473ee2",
   "metadata": {},
   "outputs": [
    {
     "data": {
      "text/plain": [
       "\"I've always wanted to eat a gallon of ice cream.\""
      ]
     },
     "execution_count": 24,
     "metadata": {},
     "output_type": "execute_result"
    }
   ],
   "source": [
    "\"I've always wanted to eat a gallon of ice cream.\""
   ]
  },
  {
   "cell_type": "code",
   "execution_count": 25,
   "id": "eef19d22",
   "metadata": {},
   "outputs": [
    {
     "data": {
      "text/plain": [
       "'\\nI\\'ve always wanted to eat a gallon of \"ice cream\"\\n'"
      ]
     },
     "execution_count": 25,
     "metadata": {},
     "output_type": "execute_result"
    }
   ],
   "source": [
    "\"\"\"\n",
    "I've always wanted to eat a gallon of \"ice cream\"\n",
    "\"\"\""
   ]
  },
  {
   "cell_type": "code",
   "execution_count": 27,
   "id": "4883d060",
   "metadata": {},
   "outputs": [],
   "source": [
    "# Strings can be indexed"
   ]
  },
  {
   "cell_type": "code",
   "execution_count": 29,
   "id": "34b80b4b",
   "metadata": {},
   "outputs": [],
   "source": [
    "a = 'Hello World!'"
   ]
  },
  {
   "cell_type": "code",
   "execution_count": 30,
   "id": "aa1ed365",
   "metadata": {},
   "outputs": [
    {
     "name": "stdout",
     "output_type": "stream",
     "text": [
      "Hello\n"
     ]
    }
   ],
   "source": [
    "print(a[:5])"
   ]
  },
  {
   "cell_type": "code",
   "execution_count": 34,
   "id": "03ecc801",
   "metadata": {},
   "outputs": [
    {
     "name": "stdout",
     "output_type": "stream",
     "text": [
      "o\n"
     ]
    }
   ],
   "source": [
    "print(a[4])"
   ]
  },
  {
   "cell_type": "code",
   "execution_count": 35,
   "id": "686b946d",
   "metadata": {},
   "outputs": [
    {
     "name": "stdout",
     "output_type": "stream",
     "text": [
      "llo\n"
     ]
    }
   ],
   "source": [
    "print(a[2:5])"
   ]
  },
  {
   "cell_type": "code",
   "execution_count": 36,
   "id": "9a0b5f65",
   "metadata": {},
   "outputs": [
    {
     "data": {
      "text/plain": [
       "'Hello World!Hello World!Hello World!'"
      ]
     },
     "execution_count": 36,
     "metadata": {},
     "output_type": "execute_result"
    }
   ],
   "source": [
    "# We can multiple strings\n",
    "a * 3"
   ]
  },
  {
   "cell_type": "code",
   "execution_count": 37,
   "id": "63a5db2c",
   "metadata": {},
   "outputs": [
    {
     "data": {
      "text/plain": [
       "'Hello World!Hello World!'"
      ]
     },
     "execution_count": 37,
     "metadata": {},
     "output_type": "execute_result"
    }
   ],
   "source": [
    "a + a"
   ]
  },
  {
   "cell_type": "markdown",
   "id": "dc5ddef7",
   "metadata": {},
   "source": [
    "### Lists"
   ]
  },
  {
   "cell_type": "code",
   "execution_count": 39,
   "id": "c745b359",
   "metadata": {},
   "outputs": [
    {
     "data": {
      "text/plain": [
       "[1, 2, 3]"
      ]
     },
     "execution_count": 39,
     "metadata": {},
     "output_type": "execute_result"
    }
   ],
   "source": [
    "# List\n",
    "[1,2,3]"
   ]
  },
  {
   "cell_type": "code",
   "execution_count": 42,
   "id": "7e71ba28",
   "metadata": {},
   "outputs": [
    {
     "data": {
      "text/plain": [
       "['vanilla', 'strawberry', 'chocolate']"
      ]
     },
     "execution_count": 42,
     "metadata": {},
     "output_type": "execute_result"
    }
   ],
   "source": [
    "[\"vanilla\", 'strawberry', 'chocolate']"
   ]
  },
  {
   "cell_type": "code",
   "execution_count": 43,
   "id": "91c42dc0",
   "metadata": {},
   "outputs": [
    {
     "data": {
      "text/plain": [
       "['Vanilla', 3, ['Scoops', 'Spoon'], True]"
      ]
     },
     "execution_count": 43,
     "metadata": {},
     "output_type": "execute_result"
    }
   ],
   "source": [
    "['Vanilla', 3, ['Scoops', 'Spoon'], True]"
   ]
  },
  {
   "cell_type": "code",
   "execution_count": 45,
   "id": "613a158b",
   "metadata": {},
   "outputs": [
    {
     "data": {
      "text/plain": [
       "['vanilla', 'strawberry', 'chocolate', 'salted caramel']"
      ]
     },
     "execution_count": 45,
     "metadata": {},
     "output_type": "execute_result"
    }
   ],
   "source": [
    "# Adding an Item to a list\n",
    "ice_cream = [\"vanilla\", 'strawberry', 'chocolate']\n",
    "\n",
    "ice_cream.append('salted caramel')\n",
    "\n",
    "ice_cream\n"
   ]
  },
  {
   "cell_type": "code",
   "execution_count": 46,
   "id": "a35e2f14",
   "metadata": {},
   "outputs": [
    {
     "data": {
      "text/plain": [
       "['Butter Pecan', 'strawberry', 'chocolate', 'salted caramel']"
      ]
     },
     "execution_count": 46,
     "metadata": {},
     "output_type": "execute_result"
    }
   ],
   "source": [
    "ice_cream[0]= 'Butter Pecan'\n",
    "ice_cream"
   ]
  },
  {
   "cell_type": "code",
   "execution_count": 47,
   "id": "6c90d4bc",
   "metadata": {},
   "outputs": [],
   "source": [
    "# Nested List\n",
    "nest_list = ['vanilla', 3, ['Scoops', 'Spoon'], True ]"
   ]
  },
  {
   "cell_type": "code",
   "execution_count": 49,
   "id": "10e96cc2",
   "metadata": {},
   "outputs": [
    {
     "data": {
      "text/plain": [
       "['Scoops', 'Spoon']"
      ]
     },
     "execution_count": 49,
     "metadata": {},
     "output_type": "execute_result"
    }
   ],
   "source": [
    "nest_list[2]"
   ]
  },
  {
   "cell_type": "code",
   "execution_count": 50,
   "id": "98d92dfb",
   "metadata": {},
   "outputs": [
    {
     "data": {
      "text/plain": [
       "'Spoon'"
      ]
     },
     "execution_count": 50,
     "metadata": {},
     "output_type": "execute_result"
    }
   ],
   "source": [
    "nest_list[2][1]"
   ]
  },
  {
   "cell_type": "markdown",
   "id": "af0e5176",
   "metadata": {},
   "source": [
    "### Tuples"
   ]
  },
  {
   "cell_type": "code",
   "execution_count": 51,
   "id": "9ab4d799",
   "metadata": {},
   "outputs": [],
   "source": [
    "# Tuples are immutable\n",
    "# Tuple is used for a data that will never change. \n",
    "# For example, country, city name, or a location"
   ]
  },
  {
   "cell_type": "code",
   "execution_count": 52,
   "id": "41504330",
   "metadata": {},
   "outputs": [],
   "source": [
    "tuple_scoops= (1,2,3,2,1)"
   ]
  },
  {
   "cell_type": "code",
   "execution_count": 53,
   "id": "6c5e2001",
   "metadata": {},
   "outputs": [
    {
     "data": {
      "text/plain": [
       "tuple"
      ]
     },
     "execution_count": 53,
     "metadata": {},
     "output_type": "execute_result"
    }
   ],
   "source": [
    "type(tuple_scoops)"
   ]
  },
  {
   "cell_type": "code",
   "execution_count": 54,
   "id": "700b5453",
   "metadata": {},
   "outputs": [
    {
     "ename": "AttributeError",
     "evalue": "'tuple' object has no attribute 'append'",
     "output_type": "error",
     "traceback": [
      "\u001b[0;31m---------------------------------------------------------------------------\u001b[0m",
      "\u001b[0;31mAttributeError\u001b[0m                            Traceback (most recent call last)",
      "\u001b[0;32m/var/folders/0x/y2h7421x1ys18gwnz5116r400000gn/T/ipykernel_96750/174015282.py\u001b[0m in \u001b[0;36m<module>\u001b[0;34m\u001b[0m\n\u001b[0;32m----> 1\u001b[0;31m \u001b[0mtuple_scoops\u001b[0m\u001b[0;34m.\u001b[0m\u001b[0mappend\u001b[0m\u001b[0;34m(\u001b[0m\u001b[0;36m3\u001b[0m\u001b[0;34m)\u001b[0m\u001b[0;34m\u001b[0m\u001b[0;34m\u001b[0m\u001b[0m\n\u001b[0m",
      "\u001b[0;31mAttributeError\u001b[0m: 'tuple' object has no attribute 'append'"
     ]
    }
   ],
   "source": [
    "# We cannot change or add anything to a tuple \n",
    "tuple_scoops.append(3)"
   ]
  },
  {
   "cell_type": "markdown",
   "id": "1e9401c9",
   "metadata": {},
   "source": [
    "## Sets"
   ]
  },
  {
   "cell_type": "code",
   "execution_count": 55,
   "id": "9420aa37",
   "metadata": {},
   "outputs": [],
   "source": [
    "# Set is somewhat similar to a list and a tuple, but the sets donot have any duplicate elements\n",
    "# Values within a set cannot be accessed using a index because it doesnot have an index.\n",
    "# Values in sets is unordered"
   ]
  },
  {
   "cell_type": "code",
   "execution_count": 56,
   "id": "6b3c3598",
   "metadata": {},
   "outputs": [],
   "source": [
    "daily_pints = {1,2,3}"
   ]
  },
  {
   "cell_type": "code",
   "execution_count": 57,
   "id": "4abb74f2",
   "metadata": {},
   "outputs": [
    {
     "data": {
      "text/plain": [
       "set"
      ]
     },
     "execution_count": 57,
     "metadata": {},
     "output_type": "execute_result"
    }
   ],
   "source": [
    "type(daily_pints)"
   ]
  },
  {
   "cell_type": "code",
   "execution_count": 58,
   "id": "3f4d7599",
   "metadata": {},
   "outputs": [
    {
     "name": "stdout",
     "output_type": "stream",
     "text": [
      "{1, 2, 3}\n"
     ]
    }
   ],
   "source": [
    "print(daily_pints)"
   ]
  },
  {
   "cell_type": "code",
   "execution_count": 60,
   "id": "d214bac3",
   "metadata": {},
   "outputs": [
    {
     "name": "stdout",
     "output_type": "stream",
     "text": [
      "{1, 2, 3, 4, 5, 6, 31}\n"
     ]
    }
   ],
   "source": [
    "daily_pints_log = {1,2,31,2,3,4,1,2,5,6,3,2}\n",
    "print(daily_pints_log)"
   ]
  },
  {
   "cell_type": "code",
   "execution_count": 64,
   "id": "cf25f12a",
   "metadata": {},
   "outputs": [],
   "source": [
    "new_daily_pints_log = {1,2,2,3,4,1,9,5,6,3,27,8}"
   ]
  },
  {
   "cell_type": "code",
   "execution_count": 65,
   "id": "792b7484",
   "metadata": {},
   "outputs": [
    {
     "name": "stdout",
     "output_type": "stream",
     "text": [
      "{1, 2, 3, 4, 5, 6, 8, 9, 27, 31}\n"
     ]
    }
   ],
   "source": [
    "print(daily_pints_log | new_daily_pints_log)"
   ]
  },
  {
   "cell_type": "code",
   "execution_count": 66,
   "id": "5ec65156",
   "metadata": {},
   "outputs": [
    {
     "name": "stdout",
     "output_type": "stream",
     "text": [
      "{1, 2, 3, 4, 5, 6}\n"
     ]
    }
   ],
   "source": [
    "print(daily_pints_log & new_daily_pints_log)"
   ]
  },
  {
   "cell_type": "code",
   "execution_count": 67,
   "id": "e4c3d9d0",
   "metadata": {},
   "outputs": [
    {
     "name": "stdout",
     "output_type": "stream",
     "text": [
      "{31}\n"
     ]
    }
   ],
   "source": [
    "print(daily_pints_log - new_daily_pints_log)"
   ]
  },
  {
   "cell_type": "code",
   "execution_count": 68,
   "id": "6b3fb678",
   "metadata": {},
   "outputs": [
    {
     "name": "stdout",
     "output_type": "stream",
     "text": [
      "{8, 9, 27}\n"
     ]
    }
   ],
   "source": [
    "print(new_daily_pints_log - daily_pints_log)"
   ]
  },
  {
   "cell_type": "code",
   "execution_count": 69,
   "id": "86a0c826",
   "metadata": {},
   "outputs": [
    {
     "name": "stdout",
     "output_type": "stream",
     "text": [
      "{8, 9, 27, 31}\n"
     ]
    }
   ],
   "source": [
    "print(new_daily_pints_log ^ daily_pints_log)"
   ]
  },
  {
   "cell_type": "markdown",
   "id": "9427fc0c",
   "metadata": {},
   "source": [
    "## Dictionaries"
   ]
  },
  {
   "cell_type": "code",
   "execution_count": 87,
   "id": "b2e5496d",
   "metadata": {},
   "outputs": [],
   "source": [
    "# Dictionaries\n",
    "# Key/Value pair\n",
    "\n",
    "dict_cream = {'name' : 'Pramila Poudel', 'weekly intake': 5, 'favorite ice creams': ['vanilla', 'chocolate chips']}\n"
   ]
  },
  {
   "cell_type": "code",
   "execution_count": 88,
   "id": "6a628b81",
   "metadata": {},
   "outputs": [
    {
     "data": {
      "text/plain": [
       "dict"
      ]
     },
     "execution_count": 88,
     "metadata": {},
     "output_type": "execute_result"
    }
   ],
   "source": [
    "type(dict_cream)"
   ]
  },
  {
   "cell_type": "code",
   "execution_count": 89,
   "id": "6f7954d1",
   "metadata": {},
   "outputs": [
    {
     "name": "stdout",
     "output_type": "stream",
     "text": [
      "{'name': 'Pramila Poudel', 'weekly intake': 5, 'favorite ice creams': ['vanilla', 'chocolate chips']}\n"
     ]
    }
   ],
   "source": [
    "print(dict_cream)"
   ]
  },
  {
   "cell_type": "code",
   "execution_count": 90,
   "id": "0dd6269f",
   "metadata": {},
   "outputs": [
    {
     "data": {
      "text/plain": [
       "dict_values(['Pramila Poudel', 5, ['vanilla', 'chocolate chips']])"
      ]
     },
     "execution_count": 90,
     "metadata": {},
     "output_type": "execute_result"
    }
   ],
   "source": [
    "dict_cream.values()"
   ]
  },
  {
   "cell_type": "code",
   "execution_count": 91,
   "id": "689c1ba1",
   "metadata": {},
   "outputs": [
    {
     "data": {
      "text/plain": [
       "dict_keys(['name', 'weekly intake', 'favorite ice creams'])"
      ]
     },
     "execution_count": 91,
     "metadata": {},
     "output_type": "execute_result"
    }
   ],
   "source": [
    "dict_cream.keys()"
   ]
  },
  {
   "cell_type": "code",
   "execution_count": 92,
   "id": "ef5244fe",
   "metadata": {},
   "outputs": [
    {
     "data": {
      "text/plain": [
       "dict_items([('name', 'Pramila Poudel'), ('weekly intake', 5), ('favorite ice creams', ['vanilla', 'chocolate chips'])])"
      ]
     },
     "execution_count": 92,
     "metadata": {},
     "output_type": "execute_result"
    }
   ],
   "source": [
    "dict_cream.items()"
   ]
  },
  {
   "cell_type": "code",
   "execution_count": 93,
   "id": "5dee6a26",
   "metadata": {},
   "outputs": [],
   "source": [
    "# One difference between a dictionary and a list is how you call the index"
   ]
  },
  {
   "cell_type": "code",
   "execution_count": 94,
   "id": "6f735ae4",
   "metadata": {},
   "outputs": [
    {
     "data": {
      "text/plain": [
       "'Pramila Poudel'"
      ]
     },
     "execution_count": 94,
     "metadata": {},
     "output_type": "execute_result"
    }
   ],
   "source": [
    "dict_cream['name']"
   ]
  },
  {
   "cell_type": "code",
   "execution_count": 95,
   "id": "34f096aa",
   "metadata": {},
   "outputs": [],
   "source": [
    "# We can update an information in a dictionary "
   ]
  },
  {
   "cell_type": "code",
   "execution_count": 96,
   "id": "98c670c4",
   "metadata": {},
   "outputs": [
    {
     "name": "stdout",
     "output_type": "stream",
     "text": [
      "{'name': 'Milli Poudel', 'weekly intake': 5, 'favorite ice creams': ['vanilla', 'chocolate chips']}\n"
     ]
    }
   ],
   "source": [
    "dict_cream['name']= 'Milli Poudel'\n",
    "\n",
    "print(dict_cream)"
   ]
  },
  {
   "cell_type": "code",
   "execution_count": 98,
   "id": "22581921",
   "metadata": {},
   "outputs": [],
   "source": [
    "dict_cream.update({'name': 'Milli Poudel', 'weekly intake': 4, 'weight': 300})"
   ]
  },
  {
   "cell_type": "code",
   "execution_count": 99,
   "id": "43b7aaad",
   "metadata": {},
   "outputs": [
    {
     "name": "stdout",
     "output_type": "stream",
     "text": [
      "{'name': 'Milli Poudel', 'weekly intake': 4, 'favorite ice creams': ['vanilla', 'chocolate chips'], 'weight': 300}\n"
     ]
    }
   ],
   "source": [
    "print(dict_cream)"
   ]
  },
  {
   "cell_type": "code",
   "execution_count": 100,
   "id": "2cb47441",
   "metadata": {},
   "outputs": [],
   "source": [
    "del dict_cream['weight']"
   ]
  },
  {
   "cell_type": "code",
   "execution_count": 101,
   "id": "4d8e1ff5",
   "metadata": {},
   "outputs": [
    {
     "name": "stdout",
     "output_type": "stream",
     "text": [
      "{'name': 'Milli Poudel', 'weekly intake': 4, 'favorite ice creams': ['vanilla', 'chocolate chips']}\n"
     ]
    }
   ],
   "source": [
    "print(dict_cream)"
   ]
  },
  {
   "cell_type": "code",
   "execution_count": null,
   "id": "fca1b9ba",
   "metadata": {},
   "outputs": [],
   "source": []
  }
 ],
 "metadata": {
  "kernelspec": {
   "display_name": "Python 3 (ipykernel)",
   "language": "python",
   "name": "python3"
  },
  "language_info": {
   "codemirror_mode": {
    "name": "ipython",
    "version": 3
   },
   "file_extension": ".py",
   "mimetype": "text/x-python",
   "name": "python",
   "nbconvert_exporter": "python",
   "pygments_lexer": "ipython3",
   "version": "3.9.7"
  }
 },
 "nbformat": 4,
 "nbformat_minor": 5
}
